{
 "cells": [
  {
   "cell_type": "markdown",
   "id": "82382d9f-257e-4fb1-ac60-32ed10fdd4ff",
   "metadata": {},
   "source": [
    "## Twitter official API (Not recommended)\n",
    "\n",
    "Note: It is almost impossible to scrape data from Twitter using the free tier API because\n",
    "- (1 post per 15 minutes limit)\n",
    "- 100 pulled posts per MONTH"
   ]
  },
  {
   "cell_type": "code",
   "execution_count": 1,
   "id": "b9fe0288-7d40-485b-a5c9-c64b05a25c90",
   "metadata": {},
   "outputs": [],
   "source": [
    "import requests\n",
    "import time\n",
    "import datetime\n",
    "import pytz"
   ]
  },
  {
   "cell_type": "code",
   "execution_count": 2,
   "id": "28b9d4e3-9c7a-4d93-b022-90713315e118",
   "metadata": {},
   "outputs": [],
   "source": [
    "# Replace with your actual Bearer Token\n",
    "BEARER_TOKEN = \"AAAAAAAAAAAAAAAAAAAAAOqN2QEAAAAAYdeCOH%2BS1ShRGQwzm0lggEFr73Y%3DeyTXiSfSRq5BrDQ1UAstjOptyh4Es8nO1a34CiKDkB7sbuHZq7\"\n",
    "\n",
    "headers = {\n",
    "    \"Authorization\": f\"Bearer {BEARER_TOKEN}\"\n",
    "}"
   ]
  },
  {
   "cell_type": "code",
   "execution_count": 3,
   "id": "474cbe62-368f-411f-8b5b-aa636453e221",
   "metadata": {},
   "outputs": [],
   "source": [
    "# 🎯 Adjust the search query carefully\n",
    "search_url = \"https://api.twitter.com/2/tweets/search/recent\"\n",
    "query_params = {\n",
    "    'query': 'nyc congestion pricing lang:en -is:retweet',\n",
    "    'max_results': 10,  # this should between 10 and 100\n",
    "    'tweet.fields': 'author_id,created_at,text'\n",
    "}"
   ]
  },
  {
   "cell_type": "code",
   "execution_count": 4,
   "id": "75f4a097-e309-47e3-842d-9db6193aed01",
   "metadata": {},
   "outputs": [
    {
     "name": "stdout",
     "output_type": "stream",
     "text": [
      "1\n",
      "0\n",
      "1749582435\n"
     ]
    }
   ],
   "source": [
    "response = requests.get(search_url, headers=headers, params=query_params)\n",
    "print(response.headers.get(\"x-rate-limit-limit\"))\n",
    "print(response.headers.get(\"x-rate-limit-remaining\"))\n",
    "print(response.headers.get(\"x-rate-limit-reset\"))"
   ]
  },
  {
   "cell_type": "code",
   "execution_count": 5,
   "id": "fab1b2f7-f9fe-40a9-afde-9feb569c3755",
   "metadata": {},
   "outputs": [
    {
     "name": "stdout",
     "output_type": "stream",
     "text": [
      "Tweet 1\n",
      "Author ID: 1562891346108891141\n",
      "Created at: 2025-06-10T17:07:47.000Z\n",
      "Text: @SGamarad @nikicaga He came around on it eventually!!  \n",
      "\n",
      "https://t.co/aLlWGmsfB0\n",
      "\n",
      "Tweet 2\n",
      "Author ID: 91605123\n",
      "Created at: 2025-06-10T12:09:14.000Z\n",
      "Text: @criticalurban @humantransit Explainer from @StreetsblogNYC .  The revenue does not simply go straight to improvements, money is borrowed, bonds are involved, something  this dropout doesn't really understand, but the point is you're not going to see improvements right away.  \n",
      "\n",
      "https://t.co/wnDl0jNs5L\n",
      "\n",
      "Tweet 3\n",
      "Author ID: 1147686093128654848\n",
      "Created at: 2025-06-10T11:49:02.000Z\n",
      "Text: @w8wuttt @JewishLives23 @JAllen_NYC Could also be passing bail reform. Raise the age. Less is more. Congestion pricing. I mean there’s a myriad of reasons to never vote for that piece of crap and give a Republican a chance…\n",
      "\n",
      "Tweet 4\n",
      "Author ID: 2882123776\n",
      "Created at: 2025-06-10T11:32:45.000Z\n",
      "Text: @ColinDreams @NickyFrank30 AND you need Albany sign-off for any NYC tax hikes! Good luck selling Upstate on ANOTHER MTA tax hike after the last mobility tax hike after congestion pricing lmfao\n",
      "\n",
      "Tweet 5\n",
      "Author ID: 1455549795624357890\n",
      "Created at: 2025-06-10T08:36:57.000Z\n",
      "Text: @teribaapbc @reclaimchennai Which part of illegal parking in my reply was hard to understand? Using paid parking provided by the city on streets is legal. NYC charges congestion pricing as well now, feel free to pay to enter and pay to legally park and go to any restaurant, who cares.\n",
      "\n",
      "Tweet 6\n",
      "Author ID: 940867947404365830\n",
      "Created at: 2025-06-09T22:56:43.000Z\n",
      "Text: @IDoTheThinking I don’t love her and was enraged when she delayed it, but Hochul should get props for telling Trump and Duffy to go fuck themselves every single time they’ve tried to stop the insanely successful congestion pricing program in nyc\n",
      "\n",
      "Tweet 7\n",
      "Author ID: 2889358505\n",
      "Created at: 2025-06-09T21:37:33.000Z\n",
      "Text: @mindyisser He genius NYC is charging congestion pricing to fund the MTA\n",
      "\n",
      "Tweet 8\n",
      "Author ID: 1379217473476567040\n",
      "Created at: 2025-06-09T19:57:06.000Z\n",
      "Text: My serious analsysis of this is that NYC having congestion pricing makes it the best place in America to do this.\n",
      "\n",
      "But it still requires getting middle class NYers to get used to taking the bus. It can't just be a welfare program. It'd doable but it'll take attention https://t.co/dME5FxSHwK\n",
      "\n",
      "Tweet 9\n",
      "Author ID: 123371184\n",
      "Created at: 2025-06-09T18:58:16.000Z\n",
      "Text: @dmtrubman Brannan is on the record supporting congestion pricing: https://t.co/qkuEOfpl5i\n",
      "\n",
      "Tweet 10\n",
      "Author ID: 1759656912545513472\n",
      "Created at: 2025-06-09T17:12:23.000Z\n",
      "Text: @WhiteHouse Americans are becoming disheartened at all the bluster and little results. Retailers still pushing LGTBQ agenda, trans still in women's sports, congestion pricing rolling along in NYC, and on and on. Realize things take time but some things aren't going to get done.\n",
      "\n"
     ]
    }
   ],
   "source": [
    "if response.status_code == 200:\n",
    "    tweets = response.json().get('data', [])\n",
    "    for idx, tweet in enumerate(tweets, 1):\n",
    "        print(f\"Tweet {idx}\")\n",
    "        print(f\"Author ID: {tweet['author_id']}\")\n",
    "        print(f\"Created at: {tweet['created_at']}\")\n",
    "        print(f\"Text: {tweet['text']}\\n\")\n",
    "else:\n",
    "    print(\"Error:\", response.status_code, response.text)"
   ]
  },
  {
   "cell_type": "code",
   "execution_count": null,
   "id": "1a6369e3-8304-4fdb-8397-57f933944d6a",
   "metadata": {},
   "outputs": [],
   "source": []
  },
  {
   "cell_type": "code",
   "execution_count": null,
   "id": "8a96e363-db8d-44f6-8571-86300fb05697",
   "metadata": {},
   "outputs": [],
   "source": []
  },
  {
   "cell_type": "code",
   "execution_count": null,
   "id": "80b2d665-cbaf-46e7-9586-dff6efc8c358",
   "metadata": {},
   "outputs": [],
   "source": []
  },
  {
   "cell_type": "code",
   "execution_count": null,
   "id": "620876a0-0a68-4ba4-a81e-14d27e6184d1",
   "metadata": {},
   "outputs": [],
   "source": []
  }
 ],
 "metadata": {
  "kernelspec": {
   "display_name": "Python 3 (ipykernel)",
   "language": "python",
   "name": "python3"
  },
  "language_info": {
   "codemirror_mode": {
    "name": "ipython",
    "version": 3
   },
   "file_extension": ".py",
   "mimetype": "text/x-python",
   "name": "python",
   "nbconvert_exporter": "python",
   "pygments_lexer": "ipython3",
   "version": "3.13.3"
  }
 },
 "nbformat": 4,
 "nbformat_minor": 5
}

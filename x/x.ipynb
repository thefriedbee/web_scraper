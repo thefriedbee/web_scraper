{
 "cells": [
  {
   "cell_type": "markdown",
   "id": "82382d9f-257e-4fb1-ac60-32ed10fdd4ff",
   "metadata": {},
   "source": [
    "## Twitter official API\n",
    "\n",
    "Note: It is almost impossible to scrape data from Twitter using the free tier API (1 post per 15 minutes limit)"
   ]
  },
  {
   "cell_type": "code",
   "execution_count": 1,
   "id": "b9fe0288-7d40-485b-a5c9-c64b05a25c90",
   "metadata": {},
   "outputs": [],
   "source": [
    "import requests"
   ]
  },
  {
   "cell_type": "code",
   "execution_count": 2,
   "id": "28b9d4e3-9c7a-4d93-b022-90713315e118",
   "metadata": {},
   "outputs": [],
   "source": [
    "# Replace with your actual Bearer Token\n",
    "BEARER_TOKEN = \"AAAAAAAAAAAAAAAAAAAAAOqN2QEAAAAAYdeCOH%2BS1ShRGQwzm0lggEFr73Y%3DeyTXiSfSRq5BrDQ1UAstjOptyh4Es8nO1a34CiKDkB7sbuHZq7\"\n",
    "\n",
    "headers = {\n",
    "    \"Authorization\": f\"Bearer {BEARER_TOKEN}\"\n",
    "}"
   ]
  },
  {
   "cell_type": "code",
   "execution_count": 5,
   "id": "474cbe62-368f-411f-8b5b-aa636453e221",
   "metadata": {},
   "outputs": [],
   "source": [
    "# 🎯 Adjust the search query carefully\n",
    "search_url = \"https://api.twitter.com/2/tweets/search/recent\"\n",
    "query_params = {\n",
    "    'query': 'nyc congestion pricing lang:en -is:retweet',\n",
    "    'max_results': 5,  # this should between 10 and 100\n",
    "    'tweet.fields': 'author_id,created_at,text'\n",
    "}"
   ]
  },
  {
   "cell_type": "code",
   "execution_count": 6,
   "id": "75f4a097-e309-47e3-842d-9db6193aed01",
   "metadata": {},
   "outputs": [
    {
     "name": "stdout",
     "output_type": "stream",
     "text": [
      "Error: 429 {\"title\":\"Too Many Requests\",\"detail\":\"Too Many Requests\",\"type\":\"about:blank\",\"status\":429}\n"
     ]
    }
   ],
   "source": [
    "response = requests.get(search_url, headers=headers, params=query_params)\n",
    "\n",
    "if response.status_code == 200:\n",
    "    tweets = response.json().get('data', [])\n",
    "    for idx, tweet in enumerate(tweets, 1):\n",
    "        print(f\"Tweet {idx}\")\n",
    "        print(f\"Author ID: {tweet['author_id']}\")\n",
    "        print(f\"Created at: {tweet['created_at']}\")\n",
    "        print(f\"Text: {tweet['text']}\\n\")\n",
    "else:\n",
    "    print(\"Error:\", response.status_code, response.text)"
   ]
  },
  {
   "cell_type": "code",
   "execution_count": 9,
   "id": "bcc2766e-c040-4f79-91e1-e422a4e0b727",
   "metadata": {},
   "outputs": [],
   "source": [
    "search_url = \"https://api.twitter.com/2/tweets/search/recent?query=test\""
   ]
  },
  {
   "cell_type": "code",
   "execution_count": 10,
   "id": "956d4fe3-5414-449c-b2f4-6844c7db3be2",
   "metadata": {},
   "outputs": [
    {
     "name": "stdout",
     "output_type": "stream",
     "text": [
      "Error: 429 {\"title\":\"Too Many Requests\",\"detail\":\"Too Many Requests\",\"type\":\"about:blank\",\"status\":429}\n"
     ]
    }
   ],
   "source": [
    "response = requests.get(search_url, headers=headers)\n",
    "\n",
    "if response.status_code == 200:\n",
    "    tweets = response.json().get('data', [])\n",
    "    for idx, tweet in enumerate(tweets, 1):\n",
    "        print(f\"Tweet {idx}\")\n",
    "        print(f\"Author ID: {tweet['author_id']}\")\n",
    "        print(f\"Created at: {tweet['created_at']}\")\n",
    "        print(f\"Text: {tweet['text']}\\n\")\n",
    "else:\n",
    "    print(\"Error:\", response.status_code, response.text)"
   ]
  },
  {
   "cell_type": "code",
   "execution_count": null,
   "id": "ab44a64e-aaa6-43aa-ab3e-a60d3419dc75",
   "metadata": {},
   "outputs": [],
   "source": []
  },
  {
   "cell_type": "code",
   "execution_count": null,
   "id": "78e6f3a8-e8d2-4bf5-93da-749a036e4c24",
   "metadata": {},
   "outputs": [],
   "source": []
  },
  {
   "cell_type": "code",
   "execution_count": null,
   "id": "c886ec3f-938f-4c11-88cb-68c55a182ad9",
   "metadata": {},
   "outputs": [],
   "source": []
  },
  {
   "cell_type": "code",
   "execution_count": null,
   "id": "495c0029-0e47-402f-9a74-236f2d107719",
   "metadata": {},
   "outputs": [],
   "source": []
  },
  {
   "cell_type": "code",
   "execution_count": null,
   "id": "2f6b0f35-f174-4617-80f9-2c869edef357",
   "metadata": {},
   "outputs": [],
   "source": []
  },
  {
   "cell_type": "code",
   "execution_count": null,
   "id": "ac4af14f-6577-402d-a9fc-cff10c0eb70a",
   "metadata": {},
   "outputs": [],
   "source": []
  },
  {
   "cell_type": "code",
   "execution_count": null,
   "id": "a4665280-90c4-47c9-ab8b-e6753a7a1ec7",
   "metadata": {},
   "outputs": [],
   "source": []
  },
  {
   "cell_type": "code",
   "execution_count": null,
   "id": "80b2d665-cbaf-46e7-9586-dff6efc8c358",
   "metadata": {},
   "outputs": [],
   "source": []
  },
  {
   "cell_type": "code",
   "execution_count": null,
   "id": "620876a0-0a68-4ba4-a81e-14d27e6184d1",
   "metadata": {},
   "outputs": [],
   "source": []
  }
 ],
 "metadata": {
  "kernelspec": {
   "display_name": "Python 3 (ipykernel)",
   "language": "python",
   "name": "python3"
  },
  "language_info": {
   "codemirror_mode": {
    "name": "ipython",
    "version": 3
   },
   "file_extension": ".py",
   "mimetype": "text/x-python",
   "name": "python",
   "nbconvert_exporter": "python",
   "pygments_lexer": "ipython3",
   "version": "3.11.4"
  }
 },
 "nbformat": 4,
 "nbformat_minor": 5
}
